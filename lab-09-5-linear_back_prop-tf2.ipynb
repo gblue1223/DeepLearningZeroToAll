{
 "cells": [
  {
   "cell_type": "code",
   "execution_count": 27,
   "metadata": {},
   "outputs": [
    {
     "name": "stdout",
     "output_type": "stream",
     "text": [
      "0 [[-1.90825927]] 5.08165169 6.17867661\n",
      "100 [[0.500965953]] 1.15222943 0.189789042\n",
      "200 [[0.885906756]] 0.263432205 0.0099204313\n",
      "300 [[0.9739151]] 0.0602279902 0.000518549932\n",
      "400 [[0.994036257]] 0.0137698054 2.71045592e-05\n",
      "500 [[0.998636484]] 0.00314815948 1.41687303e-06\n",
      "600 [[0.999688268]] 0.000719723699 7.40128954e-08\n",
      "700 [[0.999928772]] 0.000164542231 3.87212173e-09\n",
      "800 [[0.999983728]] 3.76082e-05 2.01988357e-10\n",
      "900 [[0.999996245]] 8.59664e-06 1.07291953e-11\n",
      "[[1.00000107]\n",
      " [2.00000024]\n",
      " [2.99999928]]\n"
     ]
    }
   ],
   "source": [
    "# http://blog.aloni.org/posts/backprop-with-tensorflow/\n",
    "# https://medium.com/@karpathy/yes-you-should-understand-backprop-e2f06eab496b#.b3rvzhx89\n",
    "# WIP\n",
    "from functools import partial as bind\n",
    "import numpy as np\n",
    "import matplotlib.pyplot as plt\n",
    "import random\n",
    "import tensorflow as tf\n",
    "assert(tf.__version__.find('2') == 0)\n",
    "tf.random.set_seed(777)  # for reproducibility\n",
    "\n",
    "# tf Graph Input\n",
    "x_data = [[1.],\n",
    "          [2.],\n",
    "          [3.]]\n",
    "y_data = [[1.],\n",
    "          [2.],\n",
    "          [3.]]\n",
    "\n",
    "# placeholders for a tensor that will be always fed.\n",
    "X = tf.Variable(tf.zeros([3, 1]))\n",
    "Y = tf.Variable(tf.zeros([3, 1]))\n",
    "\n",
    "# Set wrong model weights\n",
    "W = tf.Variable(tf.random.truncated_normal([1, 1]))\n",
    "b = tf.Variable(5.)\n",
    "\n",
    "# Forward prop\n",
    "hypothesis = lambda: tf.matmul(X, W) + b\n",
    "\n",
    "# diff\n",
    "assert hypothesis().shape.as_list() == Y.shape.as_list()\n",
    "diff = lambda: hypothesis() - Y\n",
    "\n",
    "# Back prop (chain rule)\n",
    "d_l1 = diff\n",
    "d_b = d_l1\n",
    "d_w = lambda: tf.matmul(tf.transpose(X), d_l1())\n",
    "\n",
    "# Updating network using gradients\n",
    "learning_rate = 0.1\n",
    "step = [\n",
    "    lambda: W.assign(W - learning_rate * d_w()),\n",
    "    lambda: b.assign(b - learning_rate * tf.reduce_mean(d_b())),\n",
    "]\n",
    "\n",
    "# 7. Running and testing the training process\n",
    "RMSE = lambda: tf.reduce_mean(tf.square((Y - hypothesis())))\n",
    "\n",
    "X.assign(x_data)\n",
    "Y.assign(y_data)\n",
    "for i in range(1000):\n",
    "    step[0]()\n",
    "    step[1]()\n",
    "    rmse_val = RMSE()\n",
    "    if i % 100 == 0:\n",
    "        tf.print(i, W, b, rmse_val)\n",
    "\n",
    "tf.print(hypothesis())\n"
   ]
  },
  {
   "cell_type": "code",
   "execution_count": null,
   "metadata": {},
   "outputs": [],
   "source": []
  }
 ],
 "metadata": {
  "kernelspec": {
   "display_name": "Python 3",
   "language": "python",
   "name": "python3"
  },
  "language_info": {
   "codemirror_mode": {
    "name": "ipython",
    "version": 3
   },
   "file_extension": ".py",
   "mimetype": "text/x-python",
   "name": "python",
   "nbconvert_exporter": "python",
   "pygments_lexer": "ipython3",
   "version": "3.7.3"
  }
 },
 "nbformat": 4,
 "nbformat_minor": 4
}
