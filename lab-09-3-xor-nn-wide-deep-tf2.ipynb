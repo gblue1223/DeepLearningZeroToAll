{
 "cells": [
  {
   "cell_type": "code",
   "execution_count": 5,
   "metadata": {},
   "outputs": [
    {
     "name": "stdout",
     "output_type": "stream",
     "text": [
      "Step:  0 Cost:  0.95171535\n",
      "Step:  1000 Cost:  0.650166\n",
      "Step:  2000 Cost:  0.100258648\n",
      "Step:  3000 Cost:  0.0176860057\n",
      "Step:  4000 Cost:  0.00850332156\n",
      "Step:  5000 Cost:  0.00541432435\n",
      "Step:  6000 Cost:  0.00391545659\n",
      "Step:  7000 Cost:  0.0030431198\n",
      "Step:  8000 Cost:  0.0024769241\n",
      "Step:  9000 Cost:  0.00208181213\n",
      "Step:  10000 Cost:  0.00179138302\n",
      "\n",
      "Hypothesis:  [[0.00148251653]\n",
      " [0.997893929]\n",
      " [0.998833954]\n",
      " [0.00240403414]] \n",
      "Predicted:  [[0]\n",
      " [1]\n",
      " [1]\n",
      " [0]] \n",
      "Accuracy:  1\n"
     ]
    },
    {
     "data": {
      "text/plain": [
       "'\\nHypothesis:  [[  7.80511764e-04]\\n [  9.99238133e-01]\\n [  9.98379230e-01]\\n [  1.55659032e-03]]\\nCorrect:  [[ 0.]\\n [ 1.]\\n [ 1.]\\n [ 0.]]\\nAccuracy:  1.0\\n'"
      ]
     },
     "execution_count": 5,
     "metadata": {},
     "output_type": "execute_result"
    }
   ],
   "source": [
    "# Lab 9 XOR\n",
    "from functools import partial as bind\n",
    "import numpy as np\n",
    "import matplotlib.pyplot as plt\n",
    "import random\n",
    "import tensorflow as tf\n",
    "assert(tf.__version__.find('2') == 0)\n",
    "tf.random.set_seed(777)  # for reproducibility\n",
    "\n",
    "x_data = np.array([[0, 0], [0, 1], [1, 0], [1, 1]], dtype=np.float32)\n",
    "y_data = np.array([[0], [1], [1], [0]], dtype=np.float32)\n",
    "\n",
    "W1 = tf.Variable(tf.random.normal([2, 10]), name='weight1')\n",
    "b1 = tf.Variable(tf.random.normal([10]), name='bias1')\n",
    "layer1 = lambda X: tf.sigmoid(tf.matmul(X, W1) + b1)\n",
    "\n",
    "W2 = tf.Variable(tf.random.normal([10, 10]), name='weight2')\n",
    "b2 = tf.Variable(tf.random.normal([10]), name='bias2')\n",
    "layer2 = lambda X: tf.sigmoid(tf.matmul(layer1(X), W2) + b2)\n",
    "\n",
    "W3 = tf.Variable(tf.random.normal([10, 10]), name='weight3')\n",
    "b3 = tf.Variable(tf.random.normal([10]), name='bias3')\n",
    "layer3 = lambda X: tf.sigmoid(tf.matmul(layer2(X), W3) + b3)\n",
    "\n",
    "W4 = tf.Variable(tf.random.normal([10, 1]), name='weight4')\n",
    "b4 = tf.Variable(tf.random.normal([1]), name='bias4')\n",
    "hypothesis = lambda X: tf.sigmoid(tf.matmul(layer3(X), W4) + b4)\n",
    "\n",
    "# cost/loss function\n",
    "@tf.function\n",
    "def cost(X, Y):\n",
    "    return -tf.reduce_mean(\n",
    "        Y * tf.math.log(hypothesis(X)) + (1 - Y) * tf.math.log(1 - hypothesis(X))\n",
    "    )\n",
    "\n",
    "optimizer = tf.keras.optimizers.SGD(learning_rate=0.1)\n",
    "\n",
    "# Accuracy computation\n",
    "# True if hypothesis>0.5 else False\n",
    "predicted = lambda X: tf.cast(hypothesis(X) > 0.5, dtype=tf.float32)\n",
    "accuracy = lambda X, Y: tf.reduce_mean(tf.cast(tf.equal(predicted(X), Y), dtype=tf.float32))\n",
    "\n",
    "# Launch graph\n",
    "for step in range(10001):\n",
    "    optimizer.minimize(\n",
    "        bind(cost, x_data, y_data),\n",
    "        var_list=[W1, b1, W2, b2, W3, b3, W4, b4]\n",
    "    )\n",
    "    cost_val = cost(x_data, y_data)\n",
    "    if step % 1000 == 0:\n",
    "        tf.print(\"Step: \", step, \"Cost: \", cost_val)\n",
    "        \n",
    "# Accuracy report\n",
    "h, p, a = hypothesis(x_data), predicted(x_data), accuracy(x_data, y_data)\n",
    "tf.print(\"\\nHypothesis: \", h, \"\\nPredicted: \", p, \"\\nAccuracy: \", a)\n",
    "\n",
    "'''\n",
    "Hypothesis:  [[  7.80511764e-04]\n",
    " [  9.99238133e-01]\n",
    " [  9.98379230e-01]\n",
    " [  1.55659032e-03]]\n",
    "Correct:  [[ 0.]\n",
    " [ 1.]\n",
    " [ 1.]\n",
    " [ 0.]]\n",
    "Accuracy:  1.0\n",
    "'''\n"
   ]
  },
  {
   "cell_type": "code",
   "execution_count": null,
   "metadata": {},
   "outputs": [],
   "source": []
  }
 ],
 "metadata": {
  "kernelspec": {
   "display_name": "Python 3",
   "language": "python",
   "name": "python3"
  },
  "language_info": {
   "codemirror_mode": {
    "name": "ipython",
    "version": 3
   },
   "file_extension": ".py",
   "mimetype": "text/x-python",
   "name": "python",
   "nbconvert_exporter": "python",
   "pygments_lexer": "ipython3",
   "version": "3.7.3"
  }
 },
 "nbformat": 4,
 "nbformat_minor": 4
}
