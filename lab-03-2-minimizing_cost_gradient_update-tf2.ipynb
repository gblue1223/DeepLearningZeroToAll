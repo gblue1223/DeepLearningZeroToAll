{
 "cells": [
  {
   "cell_type": "code",
   "execution_count": 33,
   "metadata": {},
   "outputs": [
    {
     "name": "stdout",
     "output_type": "stream",
     "text": [
      "0 1.93921149 [1.64462805]\n",
      "1 0.551598 [1.34380162]\n",
      "2 0.156898871 [1.18336082]\n",
      "3 0.0446289666 [1.09779239]\n",
      "4 0.012694478 [1.05215597]\n",
      "5 0.00361087802 [1.02781653]\n",
      "6 0.00102709664 [1.01483548]\n",
      "7 0.000292154582 [1.00791228]\n",
      "8 8.31005163e-05 [1.00421989]\n",
      "9 2.36391e-05 [1.00225067]\n",
      "10 6.72385204e-06 [1.00120032]\n",
      "11 1.9123861e-06 [1.00064015]\n",
      "12 5.43967587e-07 [1.00034142]\n",
      "13 1.54590623e-07 [1.00018203]\n",
      "14 4.39415935e-08 [1.00009704]\n",
      "15 1.24912658e-08 [1.00005174]\n",
      "16 3.53219787e-09 [1.00002754]\n",
      "17 9.99823668e-10 [1.00001466]\n",
      "18 2.88878255e-10 [1.00000787]\n",
      "19 8.02487e-11 [1.00000417]\n",
      "20 2.34052777e-11 [1.00000226]\n"
     ]
    },
    {
     "data": {
      "text/plain": [
       "'\\n0 1.93919 [ 1.64462376]\\n1 0.551591 [ 1.34379935]\\n2 0.156897 [ 1.18335962]\\n3 0.0446285 [ 1.09779179]\\n4 0.0126943 [ 1.05215561]\\n5 0.00361082 [ 1.0278163]\\n6 0.00102708 [ 1.01483536]\\n7 0.000292144 [ 1.00791216]\\n8 8.30968e-05 [ 1.00421977]\\n9 2.36361e-05 [ 1.00225055]\\n10 6.72385e-06 [ 1.00120032]\\n11 1.91239e-06 [ 1.00064015]\\n12 5.43968e-07 [ 1.00034142]\\n13 1.54591e-07 [ 1.00018203]\\n14 4.39416e-08 [ 1.00009704]\\n15 1.24913e-08 [ 1.00005174]\\n16 3.5322e-09 [ 1.00002754]\\n17 9.99824e-10 [ 1.00001466]\\n18 2.88878e-10 [ 1.00000787]\\n19 8.02487e-11 [ 1.00000417]\\n20 2.34053e-11 [ 1.00000226]\\n'"
      ]
     },
     "execution_count": 33,
     "metadata": {},
     "output_type": "execute_result"
    }
   ],
   "source": [
    "# Lab 3 Minimizing Cost\n",
    "import tensorflow as tf\n",
    "assert(tf.__version__.find('2') == 0)\n",
    "\n",
    "tf.random.set_seed(777)  # for reproducibility\n",
    "\n",
    "x_data = [1, 2, 3]\n",
    "y_data = [1, 2, 3]\n",
    "\n",
    "# Try to find values for W and b to compute y_data = W * x_data\n",
    "# We know that W should be 1\n",
    "# But let's use TensorFlow to figure it out\n",
    "delta = 2.866 # ??: I had to multiply this value to the default W to get the same result\n",
    "              # This means, I think, the algorithm is same with the original code\n",
    "              # but, tf.random.normal([1]) works differently from TF 1.x\n",
    "W = tf.Variable(tf.random.normal([1])*delta, name=\"weight\")\n",
    "\n",
    "# Our hypothesis XW+b\n",
    "hypothesis = lambda X: X * W\n",
    "\n",
    "# cost/loss function\n",
    "@tf.function\n",
    "def cost(X, Y):\n",
    "    return tf.reduce_mean(tf.square(hypothesis(X) - Y))\n",
    "\n",
    "# Minimize: Gradient Descent using derivative: W -= learning_rate * derivative\n",
    "learning_rate = 0.1\n",
    "@tf.function\n",
    "def update(X, Y):\n",
    "    gradient = tf.reduce_mean((W * X - Y) * X)\n",
    "    descent = W - learning_rate * gradient\n",
    "    return W.assign(descent)\n",
    "\n",
    "# Launch the graph.\n",
    "for step in range(21):\n",
    "    W_val = update(x_data, y_data)\n",
    "    cost_val = cost(x_data, y_data)\n",
    "    tf.print(step, cost_val, W_val)\n",
    "\n",
    "\"\"\"\n",
    "0 1.93919 [ 1.64462376]\n",
    "1 0.551591 [ 1.34379935]\n",
    "2 0.156897 [ 1.18335962]\n",
    "3 0.0446285 [ 1.09779179]\n",
    "4 0.0126943 [ 1.05215561]\n",
    "5 0.00361082 [ 1.0278163]\n",
    "6 0.00102708 [ 1.01483536]\n",
    "7 0.000292144 [ 1.00791216]\n",
    "8 8.30968e-05 [ 1.00421977]\n",
    "9 2.36361e-05 [ 1.00225055]\n",
    "10 6.72385e-06 [ 1.00120032]\n",
    "11 1.91239e-06 [ 1.00064015]\n",
    "12 5.43968e-07 [ 1.00034142]\n",
    "13 1.54591e-07 [ 1.00018203]\n",
    "14 4.39416e-08 [ 1.00009704]\n",
    "15 1.24913e-08 [ 1.00005174]\n",
    "16 3.5322e-09 [ 1.00002754]\n",
    "17 9.99824e-10 [ 1.00001466]\n",
    "18 2.88878e-10 [ 1.00000787]\n",
    "19 8.02487e-11 [ 1.00000417]\n",
    "20 2.34053e-11 [ 1.00000226]\n",
    "\"\"\"\n"
   ]
  },
  {
   "cell_type": "code",
   "execution_count": null,
   "metadata": {},
   "outputs": [],
   "source": []
  }
 ],
 "metadata": {
  "kernelspec": {
   "display_name": "Python 3",
   "language": "python",
   "name": "python3"
  },
  "language_info": {
   "codemirror_mode": {
    "name": "ipython",
    "version": 3
   },
   "file_extension": ".py",
   "mimetype": "text/x-python",
   "name": "python",
   "nbconvert_exporter": "python",
   "pygments_lexer": "ipython3",
   "version": "3.7.3"
  }
 },
 "nbformat": 4,
 "nbformat_minor": 4
}
