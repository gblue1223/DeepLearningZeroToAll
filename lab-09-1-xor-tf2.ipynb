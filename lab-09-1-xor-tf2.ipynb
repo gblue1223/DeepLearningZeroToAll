{
 "cells": [
  {
   "cell_type": "code",
   "execution_count": 4,
   "metadata": {},
   "outputs": [
    {
     "name": "stdout",
     "output_type": "stream",
     "text": [
      "Step:  0 Cost:  0.775896788 W:  [[0.774951458]\n",
      " [0.379827827]]\n",
      "Step:  1000 Cost:  0.693164289 W:  [[0.0163841527]\n",
      " [0.0156220533]]\n",
      "Step:  2000 Cost:  0.693147182 W:  [[0.000314809877]\n",
      " [0.000313365046]]\n",
      "Step:  3000 Cost:  0.693147182 W:  [[6.1607152e-06]\n",
      " [6.15666431e-06]]\n",
      "Step:  4000 Cost:  0.693147182 W:  [[1.48084354e-07]\n",
      " [1.47013907e-07]]\n",
      "Step:  5000 Cost:  0.693147182 W:  [[1.48084354e-07]\n",
      " [1.47013907e-07]]\n",
      "Step:  6000 Cost:  0.693147182 W:  [[1.48084354e-07]\n",
      " [1.47013907e-07]]\n",
      "Step:  7000 Cost:  0.693147182 W:  [[1.48084354e-07]\n",
      " [1.47013907e-07]]\n",
      "Step:  8000 Cost:  0.693147182 W:  [[1.48084354e-07]\n",
      " [1.47013907e-07]]\n",
      "Step:  9000 Cost:  0.693147182 W:  [[1.48084354e-07]\n",
      " [1.47013907e-07]]\n",
      "Step:  10000 Cost:  0.693147182 W:  [[1.48084354e-07]\n",
      " [1.47013907e-07]]\n",
      "\n",
      "Hypothesis:  [[0.49999997]\n",
      " [0.5]\n",
      " [0.5]\n",
      " [0.5]] \n",
      "Correct:  [[0]\n",
      " [0]\n",
      " [0]\n",
      " [0]] \n",
      "Accuracy:  0.5\n"
     ]
    },
    {
     "data": {
      "text/plain": [
       "'\\nHypothesis:  [[ 0.5]\\n [ 0.5]\\n [ 0.5]\\n [ 0.5]]\\nCorrect:  [[ 0.]\\n [ 0.]\\n [ 0.]\\n [ 0.]]\\nAccuracy:  0.5\\n'"
      ]
     },
     "execution_count": 4,
     "metadata": {},
     "output_type": "execute_result"
    }
   ],
   "source": [
    "# Lab 9 XOR\n",
    "from functools import partial as bind\n",
    "import numpy as np\n",
    "import matplotlib.pyplot as plt\n",
    "import random\n",
    "import tensorflow as tf\n",
    "assert(tf.__version__.find('2') == 0)\n",
    "tf.random.set_seed(777)  # for reproducibility\n",
    "\n",
    "x_data = np.array([[0, 0], [0, 1], [1, 0], [1, 1]], dtype=np.float32)\n",
    "y_data = np.array([[0], [1], [1], [0]], dtype=np.float32)\n",
    "\n",
    "W = tf.Variable(tf.random.normal([2, 1]), name=\"weight\")\n",
    "b = tf.Variable(tf.random.normal([1]), name=\"bias\")\n",
    "\n",
    "# Hypothesis using sigmoid: tf.div(1., 1. + tf.exp(tf.matmul(X, W)))\n",
    "hypothesis = lambda X: tf.sigmoid(tf.matmul(X, W) + b)\n",
    "\n",
    "# cost/loss function\n",
    "@tf.function\n",
    "def cost(X, Y):\n",
    "    return -tf.reduce_mean(\n",
    "        Y * tf.math.log(hypothesis(X)) + (1 - Y) * tf.math.log(1 - hypothesis(X))\n",
    "    )\n",
    "\n",
    "optimizer = tf.keras.optimizers.SGD(learning_rate=0.1)\n",
    "\n",
    "# Accuracy computation\n",
    "# True if hypothesis>0.5 else False\n",
    "predicted = lambda X: tf.cast(hypothesis(X) > 0.5, dtype=tf.float32)\n",
    "accuracy = lambda X, Y: tf.reduce_mean(tf.cast(tf.equal(predicted(X), Y), dtype=tf.float32))\n",
    "\n",
    "# Launch graph\n",
    "for step in range(10001):\n",
    "    optimizer.minimize(bind(cost, x_data, y_data), var_list=[W, b])\n",
    "    cost_val = cost(x_data, y_data)\n",
    "    if step % 1000 == 0:\n",
    "        tf.print(\"Step: \", step, \"Cost: \", cost_val, \"W: \", W)\n",
    "\n",
    "# Accuracy report\n",
    "h, c, a = hypothesis(x_data), predicted(x_data), accuracy(x_data, y_data)\n",
    "tf.print(\"\\nHypothesis: \", h, \"\\nCorrect: \", c, \"\\nAccuracy: \", a)\n",
    "\n",
    "'''\n",
    "Hypothesis:  [[ 0.5]\n",
    " [ 0.5]\n",
    " [ 0.5]\n",
    " [ 0.5]]\n",
    "Correct:  [[ 0.]\n",
    " [ 0.]\n",
    " [ 0.]\n",
    " [ 0.]]\n",
    "Accuracy:  0.5\n",
    "'''\n"
   ]
  },
  {
   "cell_type": "code",
   "execution_count": null,
   "metadata": {},
   "outputs": [],
   "source": []
  }
 ],
 "metadata": {
  "kernelspec": {
   "display_name": "Python 3",
   "language": "python",
   "name": "python3"
  },
  "language_info": {
   "codemirror_mode": {
    "name": "ipython",
    "version": 3
   },
   "file_extension": ".py",
   "mimetype": "text/x-python",
   "name": "python",
   "nbconvert_exporter": "python",
   "pygments_lexer": "ipython3",
   "version": "3.7.3"
  }
 },
 "nbformat": 4,
 "nbformat_minor": 4
}
