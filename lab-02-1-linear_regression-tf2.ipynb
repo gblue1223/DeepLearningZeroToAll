{
 "cells": [
  {
   "cell_type": "code",
   "execution_count": 3,
   "metadata": {},
   "outputs": [
    {
     "name": "stdout",
     "output_type": "stream",
     "text": [
      "The tensorboard extension is already loaded. To reload it, use:\n",
      "  %reload_ext tensorboard\n",
      "C:\\Users\\greenblue\\Work\\study\\machineLearning\\DeepLearningZeroToAll\n"
     ]
    },
    {
     "name": "stderr",
     "output_type": "stream",
     "text": [
      "하위 디렉터리 또는 파일 .\\logs이(가) 이미 있습니다.\n",
      "하위 디렉터리 또는 파일 .\\logs\\lab-02-1-linear_regression-tf2이(가) 이미 있습니다.\n"
     ]
    }
   ],
   "source": [
    "import datetime\n",
    "import tensorflow as tf\n",
    "assert(tf.__version__.find('2') == 0)\n",
    "\n",
    "# Load the TensorBoard notebook extension\n",
    "%load_ext tensorboard\n",
    "\n",
    "!echo %CD%\n",
    "!mkdir .\\logs\n",
    "!mkdir .\\logs\\lab-02-1-linear_regression-tf2\n",
    "!rmdir /q /s .\\logs\\lab-02-1-linear_regression-tf2\n",
    "\n",
    "log_dir = \"./logs/lab-02-1-linear_regression-tf2/\"\n",
    "\n",
    "current_time = datetime.datetime.now().strftime(\"%Y%m%d-%H%M%S\")\n",
    "train_log_dir = log_dir + current_time + '/train'\n",
    "test_log_dir = log_dir + current_time + '/test'\n",
    "train_summary_writer = tf.summary.create_file_writer(train_log_dir)\n",
    "test_summary_writer = tf.summary.create_file_writer(test_log_dir)\n"
   ]
  },
  {
   "cell_type": "code",
   "execution_count": 4,
   "metadata": {},
   "outputs": [
    {
     "name": "stdout",
     "output_type": "stream",
     "text": [
      "step:  0 cost:  0.460794359 accuracy:  1.32979834 W:  [0.519848168] b:  [0.406140149]\n",
      "step:  200 cost:  0.014656608 accuracy:  0.954857767 W:  [0.859391153] b:  [0.319636881]\n",
      "step:  400 cost:  0.00559659675 accuracy:  0.970053732 W:  [0.913112402] b:  [0.197516099]\n",
      "step:  600 cost:  0.00213705772 accuracy:  0.980636418 W:  [0.946308672] b:  [0.122052975]\n",
      "step:  800 cost:  0.000816035084 accuracy:  0.987686396 W:  [0.966822] b:  [0.075421311]\n",
      "step:  1000 cost:  0.000311602809 accuracy:  0.992252827 W:  [0.979497969] b:  [0.0466058441]\n",
      "step:  1200 cost:  0.000118983757 accuracy:  0.995158732 W:  [0.987331033] b:  [0.028799491]\n",
      "step:  1400 cost:  4.54331748e-05 accuracy:  0.996987522 W:  [0.992171407] b:  [0.0177962612]\n",
      "step:  1600 cost:  1.7348646e-05 accuracy:  0.998130322 W:  [0.995162427] b:  [0.0109969974]\n",
      "step:  1800 cost:  6.62478851e-06 accuracy:  0.998841584 W:  [0.997010648] b:  [0.00679544406]\n",
      "step:  2000 cost:  2.52968516e-06 accuracy:  0.999283 W:  [0.998152733] b:  [0.00419925433]\n"
     ]
    }
   ],
   "source": [
    "import tensorflow as tf\n",
    "assert(tf.__version__.find('2') == 0)\n",
    "\n",
    "# X and Y data\n",
    "x_train = [1, 2, 3]\n",
    "y_train = [1, 2, 3]\n",
    "\n",
    "W = tf.Variable(tf.random.normal([1]), name='weight')\n",
    "b = tf.Variable(tf.random.normal([1]), name='bias')\n",
    "\n",
    "# Our hypothesis XW+b\n",
    "hypothesis = lambda: x_train * W + b\n",
    "\n",
    "# cost/loss function\n",
    "@tf.function\n",
    "def cost():\n",
    "    return tf.reduce_mean(tf.square(hypothesis() - y_train))\n",
    "\n",
    "@tf.function\n",
    "def accuracy():\n",
    "    return tf.reduce_mean(\n",
    "        tf.cast(y_train, dtype=tf.float32) / hypothesis()\n",
    "    )\n",
    "\n",
    "# Init Gradient Descent optimizer\n",
    "optimizer = tf.keras.optimizers.SGD(learning_rate=0.01)\n",
    "\n",
    "# Launch the graph.\n",
    "for step in range(2001):\n",
    "    # Minimize\n",
    "    optimizer.minimize(cost, var_list=[W, b])\n",
    "    if (step % 200 == 0):\n",
    "        tf.print(\"step: \", step, \"cost: \", cost(), \"accuracy: \", accuracy(), \"W: \", W, \"b: \", b)\n",
    "\n",
    "    with train_summary_writer.as_default():\n",
    "        tf.summary.scalar('loss', cost(), step=step)\n",
    "        tf.summary.scalar('accuracy', accuracy(), step=step)\n",
    "        "
   ]
  },
  {
   "cell_type": "code",
   "execution_count": 6,
   "metadata": {},
   "outputs": [
    {
     "data": {
      "text/plain": [
       "Reusing TensorBoard on port 6006 (pid 4856), started 0:23:37 ago. (Use '!kill 4856' to kill it.)"
      ]
     },
     "metadata": {},
     "output_type": "display_data"
    },
    {
     "data": {
      "text/html": [
       "\n",
       "      <iframe id=\"tensorboard-frame-6195e6d296a65d83\" width=\"100%\" height=\"800\" frameborder=\"0\">\n",
       "      </iframe>\n",
       "      <script>\n",
       "        (function() {\n",
       "          const frame = document.getElementById(\"tensorboard-frame-6195e6d296a65d83\");\n",
       "          const url = new URL(\"/\", window.location);\n",
       "          url.port = 6006;\n",
       "          frame.src = url;\n",
       "        })();\n",
       "      </script>\n",
       "  "
      ],
      "text/plain": [
       "<IPython.core.display.HTML object>"
      ]
     },
     "metadata": {},
     "output_type": "display_data"
    }
   ],
   "source": [
    "%tensorboard --logdir logs/lab-02-1-linear_regression-tf2 --host \"0.0.0.0\" --port 6006"
   ]
  },
  {
   "cell_type": "code",
   "execution_count": null,
   "metadata": {},
   "outputs": [],
   "source": []
  }
 ],
 "metadata": {
  "kernelspec": {
   "display_name": "Python 3",
   "language": "python",
   "name": "python3"
  },
  "language_info": {
   "codemirror_mode": {
    "name": "ipython",
    "version": 3
   },
   "file_extension": ".py",
   "mimetype": "text/x-python",
   "name": "python",
   "nbconvert_exporter": "python",
   "pygments_lexer": "ipython3",
   "version": "3.7.3"
  }
 },
 "nbformat": 4,
 "nbformat_minor": 2
}
