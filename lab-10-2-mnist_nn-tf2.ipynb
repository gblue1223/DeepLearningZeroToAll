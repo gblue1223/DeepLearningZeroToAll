{
 "cells": [
  {
   "cell_type": "code",
   "execution_count": 2,
   "metadata": {},
   "outputs": [
    {
     "name": "stdout",
     "output_type": "stream",
     "text": [
      "C:\\Users\\greenblue\\Work\\study\\machineLearning\\DeepLearningZeroToAll\n"
     ]
    },
    {
     "name": "stderr",
     "output_type": "stream",
     "text": [
      "하위 디렉터리 또는 파일 .\\logs이(가) 이미 있습니다.\n"
     ]
    }
   ],
   "source": [
    "import tensorflow as tf\n",
    "import datetime\n",
    "\n",
    "# Load the TensorBoard notebook extension\n",
    "%load_ext tensorboard\n",
    "\n",
    "!echo %CD%\n",
    "!mkdir .\\logs\n",
    "!mkdir .\\logs\\lab-10-2-mnist_nn-tf2\n",
    "!rmdir /q /s .\\logs\\lab-10-2-mnist_nn-tf2\n",
    "\n",
    "log_dir = \"./logs/lab-10-2-mnist_nn-tf2/\"\n",
    "\n",
    "current_time = datetime.datetime.now().strftime(\"%Y%m%d-%H%M%S\")\n",
    "train_log_dir = log_dir + current_time + '/train'\n",
    "test_log_dir = log_dir + current_time + '/test'\n",
    "train_summary_writer = tf.summary.create_file_writer(train_log_dir)\n",
    "test_summary_writer = tf.summary.create_file_writer(test_log_dir)\n"
   ]
  },
  {
   "cell_type": "code",
   "execution_count": 5,
   "metadata": {},
   "outputs": [
    {
     "name": "stdout",
     "output_type": "stream",
     "text": [
      "Epoch: 0001, Cost: 150.303634644\n",
      "Epoch: 0002, Cost: 38.867015839\n",
      "Epoch: 0003, Cost: 24.159179688\n",
      "Epoch: 0004, Cost: 16.759943008\n",
      "Epoch: 0005, Cost: 12.093265533\n",
      "Epoch: 0006, Cost: 9.052667618\n",
      "Epoch: 0007, Cost: 6.703837395\n",
      "Epoch: 0008, Cost: 5.103221416\n",
      "Epoch: 0009, Cost: 3.893128395\n",
      "Epoch: 0010, Cost: 2.884230852\n",
      "Epoch: 0011, Cost: 2.159518003\n",
      "Epoch: 0012, Cost: 1.651260972\n",
      "Epoch: 0013, Cost: 1.273727417\n",
      "Epoch: 0014, Cost: 0.963704109\n",
      "Epoch: 0015, Cost: 0.804009557\n",
      "Learning finished\n",
      "Accuracy:  0.9414\n",
      "Label:  [2]\n",
      "Prediction:  [2]\n"
     ]
    },
    {
     "data": {
      "image/png": "[encoded data removed]",
      "text/plain": [
       "<Figure size 432x288 with 1 Axes>"
      ]
     },
     "metadata": {
      "needs_background": "light"
     },
     "output_type": "display_data"
    },
    {
     "data": {
      "text/plain": [
       "'\\nEpoch: 0001 cost = 141.207671860\\nEpoch: 0002 cost = 38.788445864\\nEpoch: 0003 cost = 23.977515479\\nEpoch: 0004 cost = 16.315132428\\nEpoch: 0005 cost = 11.702554882\\nEpoch: 0006 cost = 8.573139748\\nEpoch: 0007 cost = 6.370995680\\nEpoch: 0008 cost = 4.537178684\\nEpoch: 0009 cost = 3.216900532\\nEpoch: 0010 cost = 2.329708954\\nEpoch: 0011 cost = 1.715552875\\nEpoch: 0012 cost = 1.189857912\\nEpoch: 0013 cost = 0.820965160\\nEpoch: 0014 cost = 0.624131458\\nEpoch: 0015 cost = 0.454633765\\nLearning Finished!\\nAccuracy: 0.9455\\n'"
      ]
     },
     "execution_count": 5,
     "metadata": {},
     "output_type": "execute_result"
    }
   ],
   "source": [
    "# Lab 10 MNIST and NN\n",
    "from functools import partial as bind\n",
    "import numpy as np\n",
    "import matplotlib.pyplot as plt\n",
    "import random\n",
    "import tensorflow as tf\n",
    "assert(tf.__version__.find('2') == 0)\n",
    "tf.random.set_seed(777)  # for reproducibility\n",
    "\n",
    "(x_train, y_train), (x_test, y_test) = tf.keras.datasets.mnist.load_data()\n",
    "x_train, x_test = x_train / 255.0, x_test / 255.0\n",
    "\n",
    "x_train = tf.reshape(x_train, [-1, 28*28])\n",
    "x_train = tf.cast(x_train, tf.float32)\n",
    "y_train = tf.one_hot(y_train, 10)\n",
    "y_train = tf.cast(y_train, tf.float32)\n",
    "x_train_len = len(x_train)\n",
    "y_train_len = len(y_train)\n",
    "# print(x_train_len, y_train_len)\n",
    "# print(x_train, y_train)\n",
    "\n",
    "x_test = tf.reshape(x_test, [-1, 28*28])\n",
    "x_test = tf.cast(x_test, tf.float32)\n",
    "y_test = tf.one_hot(y_test, 10)\n",
    "x_test_len = len(x_test)\n",
    "y_test_len = len(y_test)\n",
    "# print(x_test_len, y_test_len)\n",
    "# print(x_test, y_test)\n",
    "\n",
    "learning_rate = 0.001\n",
    "nb_classes = 10\n",
    "batch_size = 100\n",
    "training_epochs = 15\n",
    "num_iterations = int(x_train_len / batch_size)\n",
    "\n",
    "# weights & bias for nn layers\n",
    "W1 = tf.Variable(tf.random.normal([784, 256]))\n",
    "b1 = tf.Variable(tf.random.normal([256]))\n",
    "L1 = lambda X: tf.nn.relu(tf.matmul(X, W1) + b1)\n",
    "\n",
    "W2 = tf.Variable(tf.random.normal([256, 256]))\n",
    "b2 = tf.Variable(tf.random.normal([256]))\n",
    "L2 = lambda X: tf.nn.relu(tf.matmul(L1(X), W2) + b2)\n",
    "\n",
    "W3 = tf.Variable(tf.random.normal([256, nb_classes]))\n",
    "b3 = tf.Variable(tf.random.normal([nb_classes]))\n",
    "hypothesis = lambda X: tf.matmul(L2(X), W3) + b3\n",
    "\n",
    "# define cost/loss & optimizer\n",
    "optimizer = tf.keras.optimizers.Adam(learning_rate=learning_rate)\n",
    "\n",
    "@tf.function\n",
    "def cost(X, Y):\n",
    "    return tf.reduce_mean(\n",
    "        tf.nn.softmax_cross_entropy_with_logits(logits=hypothesis(X),\n",
    "                                                labels=Y)\n",
    "    )\n",
    "\n",
    "@tf.function\n",
    "def correct_prediction(X, Y):\n",
    "    return tf.equal(tf.argmax(hypothesis(X), axis=1), tf.argmax(Y, axis=1))\n",
    "\n",
    "@tf.function\n",
    "def accuracy(X, Y):\n",
    "    return tf.reduce_mean(tf.cast(correct_prediction(X, Y), tf.float32))\n",
    "\n",
    "# train my model\n",
    "for epoch in range(training_epochs):\n",
    "    avg_cost = 0\n",
    "\n",
    "    for i in range(num_iterations):\n",
    "        pos = i * batch_size\n",
    "        batch_xs = x_train[pos: pos + batch_size, :]\n",
    "        batch_ys = y_train[pos: pos + batch_size, :]\n",
    "#         print(batch_xs)\n",
    "#         print(batch_ys)\n",
    "        \n",
    "        cost_val = cost(batch_xs, batch_ys)\n",
    "        avg_cost += cost_val / num_iterations\n",
    "\n",
    "        # Minimize\n",
    "        optimizer.minimize(bind(cost, batch_xs, batch_ys), var_list=[W1, b1, W2, b2, W3, b3])\n",
    "\n",
    "        step = epoch * num_iterations + i\n",
    "        if step % 100 == 0:\n",
    "            with train_summary_writer.as_default():\n",
    "                tf.summary.scalar('loss', cost_val, step=step)\n",
    "                tf.summary.scalar('accuracy', accuracy(batch_xs, batch_ys), step=step)\n",
    "        \n",
    "    tf.print(\"Epoch: {:04d}, Cost: {:.9f}\".format(epoch + 1, avg_cost))\n",
    "\n",
    "tf.print(\"Learning finished\")\n",
    "\n",
    "# Test model and check accuracy\n",
    "tf.print(\n",
    "    \"Accuracy: \",\n",
    "    accuracy(x_test, y_test)\n",
    ")\n",
    "\n",
    "# Get one and predict\n",
    "r = random.randint(0, y_test_len - 1)\n",
    "tf.print(\n",
    "    \"Label: \", tf.argmax(y_test[r : r + 1], 1)\n",
    ")\n",
    "tf.print(\n",
    "    \"Prediction: \",\n",
    "    tf.argmax(hypothesis(x_test[r : r + 1]), 1),\n",
    ")\n",
    "\n",
    "plt.imshow(\n",
    "    tf.reshape(x_test[r : r + 1], [28, 28]),\n",
    "    cmap=\"Greys\",\n",
    "    interpolation=\"nearest\",\n",
    ")\n",
    "plt.show()\n",
    "\n",
    "'''\n",
    "Epoch: 0001 cost = 141.207671860\n",
    "Epoch: 0002 cost = 38.788445864\n",
    "Epoch: 0003 cost = 23.977515479\n",
    "Epoch: 0004 cost = 16.315132428\n",
    "Epoch: 0005 cost = 11.702554882\n",
    "Epoch: 0006 cost = 8.573139748\n",
    "Epoch: 0007 cost = 6.370995680\n",
    "Epoch: 0008 cost = 4.537178684\n",
    "Epoch: 0009 cost = 3.216900532\n",
    "Epoch: 0010 cost = 2.329708954\n",
    "Epoch: 0011 cost = 1.715552875\n",
    "Epoch: 0012 cost = 1.189857912\n",
    "Epoch: 0013 cost = 0.820965160\n",
    "Epoch: 0014 cost = 0.624131458\n",
    "Epoch: 0015 cost = 0.454633765\n",
    "Learning Finished!\n",
    "Accuracy: 0.9455\n",
    "'''\n"
   ]
  },
  {
   "cell_type": "code",
   "execution_count": 6,
   "metadata": {},
   "outputs": [
    {
     "data": {
      "text/plain": [
       "Reusing TensorBoard on port 6006 (pid 23120), started 11:15:36 ago. (Use '!kill 23120' to kill it.)"
      ]
     },
     "metadata": {},
     "output_type": "display_data"
    },
    {
     "data": {
      "text/html": [
       "\n",
       "      <iframe id=\"tensorboard-frame-c4e7541b881b71db\" width=\"100%\" height=\"800\" frameborder=\"0\">\n",
       "      </iframe>\n",
       "      <script>\n",
       "        (function() {\n",
       "          const frame = document.getElementById(\"tensorboard-frame-c4e7541b881b71db\");\n",
       "          const url = new URL(\"/\", window.location);\n",
       "          url.port = 6006;\n",
       "          frame.src = url;\n",
       "        })();\n",
       "      </script>\n",
       "  "
      ],
      "text/plain": [
       "<IPython.core.display.HTML object>"
      ]
     },
     "metadata": {},
     "output_type": "display_data"
    }
   ],
   "source": [
    "#!taskkill /im tensorboard.exe /F\n",
    "%tensorboard --logdir logs --host \"0.0.0.0\" --port 6006"
   ]
  },
  {
   "cell_type": "code",
   "execution_count": null,
   "metadata": {},
   "outputs": [],
   "source": []
  }
 ],
 "metadata": {
  "kernelspec": {
   "display_name": "Python 3",
   "language": "python",
   "name": "python3"
  },
  "language_info": {
   "codemirror_mode": {
    "name": "ipython",
    "version": 3
   },
   "file_extension": ".py",
   "mimetype": "text/x-python",
   "name": "python",
   "nbconvert_exporter": "python",
   "pygments_lexer": "ipython3",
   "version": "3.7.3"
  }
 },
 "nbformat": 4,
 "nbformat_minor": 4
}
