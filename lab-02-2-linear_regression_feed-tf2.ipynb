{
 "cells": [
  {
   "cell_type": "code",
   "execution_count": 51,
   "metadata": {},
   "outputs": [
    {
     "name": "stdout",
     "output_type": "stream",
     "text": [
      "0 2.52511311 [0.844376743] [-1.27272546]\n",
      "20 0.154217705 [1.36592233] [-0.986700714]\n",
      "1980 1.05986574e-05 [1.0037812] [-0.00859549455]\n",
      "2000 9.62599825e-06 [1.00360346] [-0.00819153339]\n",
      "[5.00982571]\n",
      "[2.50081706]\n",
      "[1.4972136 3.50442052]\n",
      "----------------------\n",
      "0 0.781081796 [1.0693022] [0.0137560889]\n",
      "20 0.167562053 [1.26477671] [0.14029552]\n",
      "1980 2.87587284e-07 [1.00034833] [1.09874272]\n",
      "2000 2.51243e-07 [1.00032544] [1.09882498]\n",
      "[6.10045195]\n",
      "[3.59963846]\n",
      "[2.59931326 4.59996414]\n"
     ]
    },
    {
     "data": {
      "text/plain": [
       "'\\n0 1.2035878 [1.0040361] [-0.00917497]\\n20 0.16904518 [1.2656431] [0.13599995]\\n...\\n1980 2.9042917e-07 [1.00035] [1.0987366]\\n2000 2.5372992e-07 [1.0003271] [1.0988194]\\n[6.1004534]\\n[3.5996385]\\n[2.5993123 4.599964 ]\\n'"
      ]
     },
     "execution_count": 51,
     "metadata": {},
     "output_type": "execute_result"
    }
   ],
   "source": [
    "# Lab 2 Linear Regression\n",
    "from functools import partial as bind\n",
    "import tensorflow as tf\n",
    "assert(tf.__version__.find('2') == 0)\n",
    "\n",
    "tf.random.set_seed(777)  # for reproducibility\n",
    "\n",
    "# Try to find values for W and b to compute Y = W * X + b\n",
    "W = tf.Variable(tf.random.normal([1]), name='weight')\n",
    "b = tf.Variable(tf.random.normal([1]), name='bias')\n",
    "\n",
    "# No Placeholder in \n",
    "X = [1., 2., 3.]\n",
    "Y = [1., 2., 3.]\n",
    "\n",
    "# Our hypothesis XW+b\n",
    "hypothesis = lambda X: X * W + b\n",
    "\n",
    "# cost/loss function\n",
    "@tf.function\n",
    "def cost(X, Y):\n",
    "    return tf.reduce_mean(tf.square(hypothesis(X) - Y))\n",
    "\n",
    "# Init Gradient Descent optimizer\n",
    "optimizer = tf.keras.optimizers.SGD(learning_rate=0.01)\n",
    "\n",
    "# Launch the graph.\n",
    "\n",
    "# Fit the line\n",
    "for step in range(2001):\n",
    "    # Minimize\n",
    "    optimizer.minimize(bind(cost, X, Y), var_list=[W, b])\n",
    "    \n",
    "    if step == 0 or step == 20 or step == 1980 or step == 2000:\n",
    "        tf.print(step, bind(cost, X, Y)(), W, b)\n",
    "\n",
    "# Testing our model\n",
    "tf.print(hypothesis([5.]))\n",
    "tf.print(hypothesis([2.5]))\n",
    "tf.print(hypothesis([1.5, 3.5]))\n",
    "\n",
    "# Learns best fit W:[ 1.],  b:[ 0]\n",
    "\"\"\"\n",
    "0 3.5240757 [2.2086694] [-0.8204183]\n",
    "20 0.19749963 [1.5425726] [-1.0498911]\n",
    "...\n",
    "1980 1.3360998e-05 [1.0042454] [-0.00965055]\n",
    "2000 1.21343355e-05 [1.0040458] [-0.00919707]\n",
    "[5.0110054]\n",
    "[2.500915]\n",
    "[1.4968792 3.5049512]\n",
    "\"\"\"\n",
    "\n",
    "print('----------------------')\n",
    "\n",
    "# Fit the line with new training data\n",
    "X = [1, 2, 3, 4, 5]\n",
    "Y = [2.1, 3.1, 4.1, 5.1, 6.1]\n",
    "for step in range(2001):\n",
    "    # Minimize\n",
    "    optimizer.minimize(bind(cost, X, Y), var_list=[W, b])\n",
    "    \n",
    "    if step == 0 or step == 20 or step == 1980 or step == 2000:\n",
    "        tf.print(step, bind(cost, X, Y)(), W, b)\n",
    "\n",
    "# Testing our model\n",
    "tf.print(hypothesis([5.]))\n",
    "tf.print(hypothesis([2.5]))\n",
    "tf.print(hypothesis([1.5, 3.5]))\n",
    "\n",
    "# Learns best fit W:[ 1.],  b:[ 1.1]\n",
    "\"\"\"\n",
    "0 1.2035878 [1.0040361] [-0.00917497]\n",
    "20 0.16904518 [1.2656431] [0.13599995]\n",
    "...\n",
    "1980 2.9042917e-07 [1.00035] [1.0987366]\n",
    "2000 2.5372992e-07 [1.0003271] [1.0988194]\n",
    "[6.1004534]\n",
    "[3.5996385]\n",
    "[2.5993123 4.599964 ]\n",
    "\"\"\"\n"
   ]
  },
  {
   "cell_type": "code",
   "execution_count": null,
   "metadata": {},
   "outputs": [],
   "source": []
  }
 ],
 "metadata": {
  "kernelspec": {
   "display_name": "Python 3",
   "language": "python",
   "name": "python3"
  },
  "language_info": {
   "codemirror_mode": {
    "name": "ipython",
    "version": 3
   },
   "file_extension": ".py",
   "mimetype": "text/x-python",
   "name": "python",
   "nbconvert_exporter": "python",
   "pygments_lexer": "ipython3",
   "version": "3.7.3"
  }
 },
 "nbformat": 4,
 "nbformat_minor": 2
}
