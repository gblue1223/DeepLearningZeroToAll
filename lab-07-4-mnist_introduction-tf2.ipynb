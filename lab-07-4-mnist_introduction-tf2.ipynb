{
 "cells": [
  {
   "cell_type": "code",
   "execution_count": 11,
   "metadata": {},
   "outputs": [
    {
     "name": "stdout",
     "output_type": "stream",
     "text": [
      "60000 60000\n",
      "tf.Tensor(\n",
      "[[0. 0. 0. ... 0. 0. 0.]\n",
      " [0. 0. 0. ... 0. 0. 0.]\n",
      " [0. 0. 0. ... 0. 0. 0.]\n",
      " ...\n",
      " [0. 0. 0. ... 0. 0. 0.]\n",
      " [0. 0. 0. ... 0. 0. 0.]\n",
      " [0. 0. 0. ... 0. 0. 0.]], shape=(60000, 784), dtype=float32) tf.Tensor(\n",
      "[[0. 0. 0. ... 0. 0. 0.]\n",
      " [1. 0. 0. ... 0. 0. 0.]\n",
      " [0. 0. 0. ... 0. 0. 0.]\n",
      " ...\n",
      " [0. 0. 0. ... 0. 0. 0.]\n",
      " [0. 0. 0. ... 0. 0. 0.]\n",
      " [0. 0. 0. ... 0. 1. 0.]], shape=(60000, 10), dtype=float32)\n",
      "10000 10000\n",
      "tf.Tensor(\n",
      "[[0. 0. 0. ... 0. 0. 0.]\n",
      " [0. 0. 0. ... 0. 0. 0.]\n",
      " [0. 0. 0. ... 0. 0. 0.]\n",
      " ...\n",
      " [0. 0. 0. ... 0. 0. 0.]\n",
      " [0. 0. 0. ... 0. 0. 0.]\n",
      " [0. 0. 0. ... 0. 0. 0.]], shape=(10000, 784), dtype=float32) tf.Tensor(\n",
      "[[0. 0. 0. ... 1. 0. 0.]\n",
      " [0. 0. 1. ... 0. 0. 0.]\n",
      " [0. 1. 0. ... 0. 0. 0.]\n",
      " ...\n",
      " [0. 0. 0. ... 0. 0. 0.]\n",
      " [0. 0. 0. ... 0. 0. 0.]\n",
      " [0. 0. 0. ... 0. 0. 0.]], shape=(10000, 10), dtype=float32)\n",
      "Epoch: 0001, Cost: 2.557298183\n",
      "Epoch: 0002, Cost: 1.021223426\n",
      "Epoch: 0003, Cost: 0.808580279\n",
      "Epoch: 0004, Cost: 0.706655800\n",
      "Epoch: 0005, Cost: 0.643622339\n",
      "Epoch: 0006, Cost: 0.599544644\n",
      "Epoch: 0007, Cost: 0.566324413\n",
      "Epoch: 0008, Cost: 0.540010393\n",
      "Epoch: 0009, Cost: 0.518421769\n",
      "Epoch: 0010, Cost: 0.500244260\n",
      "Epoch: 0011, Cost: 0.484631658\n",
      "Epoch: 0012, Cost: 0.471008748\n",
      "Epoch: 0013, Cost: 0.458965391\n",
      "Epoch: 0014, Cost: 0.448202401\n",
      "Epoch: 0015, Cost: 0.438495845\n",
      "Learning finished\n",
      "Accuracy:  0.8946\n",
      "Label:  [2]\n",
      "Prediction:  [2]\n"
     ]
    },
    {
     "data": {
      "image/png": "[encoded data removed]",
      "text/plain": [
       "<Figure size 432x288 with 1 Axes>"
      ]
     },
     "metadata": {
      "needs_background": "light"
     },
     "output_type": "display_data"
    },
    {
     "data": {
      "text/plain": [
       "'\\nEpoch: 0001, Cost: 2.826302672\\nEpoch: 0002, Cost: 1.061668952\\nEpoch: 0003, Cost: 0.838061315\\nEpoch: 0004, Cost: 0.733232745\\nEpoch: 0005, Cost: 0.669279885\\nEpoch: 0006, Cost: 0.624611836\\nEpoch: 0007, Cost: 0.591160344\\nEpoch: 0008, Cost: 0.563868987\\nEpoch: 0009, Cost: 0.541745171\\nEpoch: 0010, Cost: 0.522673578\\nEpoch: 0011, Cost: 0.506782325\\nEpoch: 0012, Cost: 0.492447643\\nEpoch: 0013, Cost: 0.479955837\\nEpoch: 0014, Cost: 0.468893674\\nEpoch: 0015, Cost: 0.458703488\\nLearning finished\\nAccuracy:  0.8951\\n'"
      ]
     },
     "execution_count": 11,
     "metadata": {},
     "output_type": "execute_result"
    }
   ],
   "source": [
    "# Lab 7 Learning rate and Evaluation\n",
    "from functools import partial as bind\n",
    "import numpy as np\n",
    "import matplotlib.pyplot as plt\n",
    "import random\n",
    "import tensorflow as tf\n",
    "assert(tf.__version__.find('2') == 0)\n",
    "tf.random.set_seed(777)  # for reproducibility\n",
    "\n",
    "(x_train, y_train), (x_test, y_test) = tf.keras.datasets.mnist.load_data()\n",
    "x_train, x_test = x_train / 255.0, x_test / 255.0\n",
    "\n",
    "x_train = tf.reshape(x_train, [-1, 28*28])\n",
    "x_train = tf.cast(x_train, tf.float32)\n",
    "y_train = tf.one_hot(y_train, 10)\n",
    "y_train = tf.cast(y_train, tf.float32)\n",
    "x_train_len = len(x_train)\n",
    "y_train_len = len(y_train)\n",
    "print(x_train_len, y_train_len)\n",
    "print(x_train, y_train)\n",
    "\n",
    "x_test = tf.reshape(x_test, [-1, 28*28])\n",
    "x_test = tf.cast(x_test, tf.float32)\n",
    "y_test = tf.one_hot(y_test, 10)\n",
    "x_test_len = len(x_test)\n",
    "y_test_len = len(y_test)\n",
    "print(x_test_len, y_test_len)\n",
    "print(x_test, y_test)\n",
    "\n",
    "nb_classes = 10\n",
    "\n",
    "W = tf.Variable(tf.random.normal([784, nb_classes]))\n",
    "b = tf.Variable(tf.random.normal([nb_classes]))\n",
    "\n",
    "# Hypothesis (using softmax)\n",
    "hypothesis = lambda X: tf.nn.softmax(tf.matmul(X, W) + b)\n",
    "\n",
    "@tf.function\n",
    "def cost(X, Y):\n",
    "    return tf.reduce_mean(-tf.reduce_sum(Y * tf.math.log(hypothesis(X)), axis=1))\n",
    "\n",
    "optimizer = tf.keras.optimizers.SGD(learning_rate=0.1)\n",
    "\n",
    "# Test model\n",
    "is_correct = lambda X, Y: tf.equal(tf.argmax(hypothesis(X), 1), tf.argmax(Y, 1))\n",
    "# Calculate accuracy\n",
    "accuracy = lambda X, Y: tf.reduce_mean(tf.cast(is_correct(X, Y), tf.float32))\n",
    "\n",
    "# parameters\n",
    "num_epochs = 15\n",
    "batch_size = 100\n",
    "num_iterations = int(x_train_len / batch_size)\n",
    "\n",
    "for epoch in range(num_epochs):\n",
    "    avg_cost = 0\n",
    "\n",
    "    for i in range(num_iterations):\n",
    "        pos = i * batch_size\n",
    "        batch_xs = x_train[pos: pos + batch_size, :]\n",
    "        batch_ys = y_train[pos: pos + batch_size, :]\n",
    "#         print(batch_xs)\n",
    "#         print(batch_ys)\n",
    "        \n",
    "        # Minimize\n",
    "        optimizer.minimize(bind(cost, batch_xs, batch_ys), var_list=[W, b])\n",
    "        cost_val = cost(batch_xs, batch_ys)\n",
    "        avg_cost += cost_val / num_iterations\n",
    "\n",
    "    tf.print(\"Epoch: {:04d}, Cost: {:.9f}\".format(epoch + 1, avg_cost))\n",
    "\n",
    "tf.print(\"Learning finished\")\n",
    "\n",
    "# Test the model using test sets\n",
    "tf.print(\n",
    "    \"Accuracy: \",\n",
    "    accuracy(x_test, y_test)\n",
    ")\n",
    "\n",
    "# Get one and predict\n",
    "r = random.randint(0, y_test_len - 1)\n",
    "tf.print(\n",
    "    \"Label: \", tf.argmax(y_test[r : r + 1], 1)\n",
    ")\n",
    "tf.print(\n",
    "    \"Prediction: \",\n",
    "    tf.argmax(hypothesis(x_test[r : r + 1]), 1),\n",
    ")\n",
    "\n",
    "plt.imshow(\n",
    "    tf.reshape(x_test[r : r + 1], [28, 28]),\n",
    "    cmap=\"Greys\",\n",
    "    interpolation=\"nearest\",\n",
    ")\n",
    "plt.show()\n",
    "\n",
    "\n",
    "'''\n",
    "Epoch: 0001, Cost: 2.826302672\n",
    "Epoch: 0002, Cost: 1.061668952\n",
    "Epoch: 0003, Cost: 0.838061315\n",
    "Epoch: 0004, Cost: 0.733232745\n",
    "Epoch: 0005, Cost: 0.669279885\n",
    "Epoch: 0006, Cost: 0.624611836\n",
    "Epoch: 0007, Cost: 0.591160344\n",
    "Epoch: 0008, Cost: 0.563868987\n",
    "Epoch: 0009, Cost: 0.541745171\n",
    "Epoch: 0010, Cost: 0.522673578\n",
    "Epoch: 0011, Cost: 0.506782325\n",
    "Epoch: 0012, Cost: 0.492447643\n",
    "Epoch: 0013, Cost: 0.479955837\n",
    "Epoch: 0014, Cost: 0.468893674\n",
    "Epoch: 0015, Cost: 0.458703488\n",
    "Learning finished\n",
    "Accuracy:  0.8951\n",
    "'''\n"
   ]
  },
  {
   "cell_type": "code",
   "execution_count": 12,
   "metadata": {},
   "outputs": [
    {
     "name": "stdout",
     "output_type": "stream",
     "text": [
      "Label:  [0]\n",
      "Prediction:  [0]\n"
     ]
    },
    {
     "data": {
      "image/png": "[encoded data removed]",
      "text/plain": [
       "<Figure size 432x288 with 1 Axes>"
      ]
     },
     "metadata": {
      "needs_background": "light"
     },
     "output_type": "display_data"
    }
   ],
   "source": [
    "\n",
    "# Get one and predict\n",
    "r = random.randint(0, y_test_len - 1)\n",
    "tf.print(\n",
    "    \"Label: \", tf.argmax(y_test[r : r + 1], 1)\n",
    ")\n",
    "tf.print(\n",
    "    \"Prediction: \",\n",
    "    tf.argmax(hypothesis(x_test[r : r + 1]), 1),\n",
    ")\n",
    "\n",
    "plt.imshow(\n",
    "    tf.reshape(x_test[r : r + 1], [28, 28]),\n",
    "    cmap=\"Greys\",\n",
    "    interpolation=\"nearest\",\n",
    ")\n",
    "plt.show()\n"
   ]
  },
  {
   "cell_type": "code",
   "execution_count": 13,
   "metadata": {},
   "outputs": [
    {
     "name": "stdout",
     "output_type": "stream",
     "text": [
      "Label:  [6]\n",
      "Prediction:  [6]\n"
     ]
    },
    {
     "data": {
      "image/png": "[encoded data removed]",
      "text/plain": [
       "<Figure size 432x288 with 1 Axes>"
      ]
     },
     "metadata": {
      "needs_background": "light"
     },
     "output_type": "display_data"
    }
   ],
   "source": [
    "\n",
    "# Get one and predict\n",
    "r = random.randint(0, y_test_len - 1)\n",
    "tf.print(\n",
    "    \"Label: \", tf.argmax(y_test[r : r + 1], 1)\n",
    ")\n",
    "tf.print(\n",
    "    \"Prediction: \",\n",
    "    tf.argmax(hypothesis(x_test[r : r + 1]), 1),\n",
    ")\n",
    "\n",
    "plt.imshow(\n",
    "    tf.reshape(x_test[r : r + 1], [28, 28]),\n",
    "    cmap=\"Greys\",\n",
    "    interpolation=\"nearest\",\n",
    ")\n",
    "plt.show()\n"
   ]
  },
  {
   "cell_type": "code",
   "execution_count": 14,
   "metadata": {},
   "outputs": [
    {
     "name": "stdout",
     "output_type": "stream",
     "text": [
      "Label:  [0]\n",
      "Prediction:  [0]\n"
     ]
    },
    {
     "data": {
      "image/png": "[encoded data removed]",
      "text/plain": [
       "<Figure size 432x288 with 1 Axes>"
      ]
     },
     "metadata": {
      "needs_background": "light"
     },
     "output_type": "display_data"
    }
   ],
   "source": [
    "\n",
    "# Get one and predict\n",
    "r = random.randint(0, y_test_len - 1)\n",
    "tf.print(\n",
    "    \"Label: \", tf.argmax(y_test[r : r + 1], 1)\n",
    ")\n",
    "tf.print(\n",
    "    \"Prediction: \",\n",
    "    tf.argmax(hypothesis(x_test[r : r + 1]), 1),\n",
    ")\n",
    "\n",
    "plt.imshow(\n",
    "    tf.reshape(x_test[r : r + 1], [28, 28]),\n",
    "    cmap=\"Greys\",\n",
    "    interpolation=\"nearest\",\n",
    ")\n",
    "plt.show()\n"
   ]
  },
  {
   "cell_type": "code",
   "execution_count": 15,
   "metadata": {},
   "outputs": [
    {
     "name": "stdout",
     "output_type": "stream",
     "text": [
      "Label:  [1]\n",
      "Prediction:  [1]\n"
     ]
    },
    {
     "data": {
      "image/png": "[encoded data removed]",
      "text/plain": [
       "<Figure size 432x288 with 1 Axes>"
      ]
     },
     "metadata": {
      "needs_background": "light"
     },
     "output_type": "display_data"
    }
   ],
   "source": [
    "\n",
    "# Get one and predict\n",
    "r = random.randint(0, y_test_len - 1)\n",
    "tf.print(\n",
    "    \"Label: \", tf.argmax(y_test[r : r + 1], 1)\n",
    ")\n",
    "tf.print(\n",
    "    \"Prediction: \",\n",
    "    tf.argmax(hypothesis(x_test[r : r + 1]), 1),\n",
    ")\n",
    "\n",
    "plt.imshow(\n",
    "    tf.reshape(x_test[r : r + 1], [28, 28]),\n",
    "    cmap=\"Greys\",\n",
    "    interpolation=\"nearest\",\n",
    ")\n",
    "plt.show()\n"
   ]
  },
  {
   "cell_type": "code",
   "execution_count": null,
   "metadata": {},
   "outputs": [],
   "source": []
  }
 ],
 "metadata": {
  "kernelspec": {
   "display_name": "Python 3",
   "language": "python",
   "name": "python3"
  },
  "language_info": {
   "codemirror_mode": {
    "name": "ipython",
    "version": 3
   },
   "file_extension": ".py",
   "mimetype": "text/x-python",
   "name": "python",
   "nbconvert_exporter": "python",
   "pygments_lexer": "ipython3",
   "version": "3.7.3"
  }
 },
 "nbformat": 4,
 "nbformat_minor": 4
}
